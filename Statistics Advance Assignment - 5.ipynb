{
 "cells": [
  {
   "cell_type": "markdown",
   "metadata": {},
   "source": [
    "**Q1.** Calculate the 95% confidence interval for a sample of data with a mean of 50 and a standard deviation\n",
    "of 5 using Python. Interpret the results."
   ]
  },
  {
   "cell_type": "code",
   "execution_count": 4,
   "metadata": {},
   "outputs": [
    {
     "name": "stdout",
     "output_type": "stream",
     "text": [
      "95% Confidence Interval: (48.614096175650324, 51.385903824349676)\n"
     ]
    }
   ],
   "source": [
    "import numpy as np\n",
    "import scipy.stats as stats\n",
    "\n",
    "# Sample data parameters\n",
    "sample_mean = 50\n",
    "sample_std_dev = 5\n",
    "sample_size = 50 \n",
    "\n",
    "\n",
    "confidence_level = 0.95\n",
    "\n",
    "z_score = stats.norm.ppf((1 + confidence_level) / 2)\n",
    "\n",
    "margin_of_error = z_score * (sample_std_dev / np.sqrt(sample_size))\n",
    "\n",
    "confidence_interval = (sample_mean - margin_of_error, sample_mean + margin_of_error)\n",
    "\n",
    "print(\"95% Confidence Interval:\", confidence_interval)\n",
    "\n"
   ]
  },
  {
   "cell_type": "markdown",
   "metadata": {},
   "source": [
    "**Interpretation:**\n",
    "\n",
    "If your calculated confidence interval is (48.61, 51.38), it means we are 95% confident that the true population mean falls between 48.61 and 51.38."
   ]
  },
  {
   "cell_type": "markdown",
   "metadata": {},
   "source": [
    "**Q2.** Conduct a chi-square goodness of fit test to determine if the distribution of colors of M&Ms in a bag\n",
    "matches the expected distribution of 20% blue, 20% orange, 20% green, 10% yellow, 10% red, and 20%\n",
    "brown. Use Python to perform the test with a significance level of 0.05."
   ]
  },
  {
   "cell_type": "code",
   "execution_count": 8,
   "metadata": {},
   "outputs": [
    {
     "name": "stdout",
     "output_type": "stream",
     "text": [
      "Chi-Square Statistic: 0.8636363636363638\n",
      "p-value: 0.972798129618511\n",
      "Fail to reject the null hypothesis. The distribution of colors matches the expected distribution.\n"
     ]
    }
   ],
   "source": [
    "import numpy as np\n",
    "from scipy import stats\n",
    "\n",
    "# Observed frequencies of M&M colors\n",
    "observed_frequencies = np.array([25, 20, 22, 12, 11, 20])\n",
    "\n",
    "# Expected frequencies based on the expected distribution\n",
    "expected_frequencies = np.array([0.2, 0.2, 0.2, 0.1, 0.1, 0.2]) * np.sum(observed_frequencies)\n",
    "\n",
    "chi2, p_value = stats.chisquare(f_obs=observed_frequencies, f_exp=expected_frequencies)\n",
    "\n",
    "alpha = 0.05\n",
    "\n",
    "print(\"Chi-Square Statistic:\", chi2)\n",
    "print(\"p-value:\", p_value)\n",
    "\n",
    "if p_value < alpha:\n",
    "    print(\"Reject the null hypothesis. The distribution of colors does not match the expected distribution.\")\n",
    "else:\n",
    "    print(\"Fail to reject the null hypothesis. The distribution of colors matches the expected distribution.\")\n"
   ]
  },
  {
   "cell_type": "markdown",
   "metadata": {},
   "source": [
    "**Q3.** Use Python to calculate the chi-square statistic and p-value for a contingency table with the following\n",
    "data:     \n",
    "\n",
    "            Group A     Group B\n",
    "\n",
    "Outcome 1   20          15\n",
    "\n",
    "Outcome 2   10          25\n",
    "\n",
    "Outcome 3   15          20\n",
    "\n",
    "Interpret the results of the test."
   ]
  },
  {
   "cell_type": "code",
   "execution_count": 11,
   "metadata": {},
   "outputs": [
    {
     "name": "stdout",
     "output_type": "stream",
     "text": [
      "Chi-square statistic: 5.833333333333334\n",
      "P-value: 0.05411376622282158\n",
      "Degrees of freedom: 2\n",
      "Expected frequencies:\n",
      "[[15. 20.]\n",
      " [15. 20.]\n",
      " [15. 20.]]\n"
     ]
    }
   ],
   "source": [
    "import numpy as np\n",
    "from scipy.stats import chi2_contingency\n",
    "\n",
    "# Create the contingency table as a NumPy array\n",
    "observed = np.array([[20, 15], [10, 25], [15, 20]])\n",
    "\n",
    "# Perform the chi-square test\n",
    "chi2, p, dof, expected = chi2_contingency(observed)\n",
    "\n",
    "# Print the results\n",
    "print(f\"Chi-square statistic: {chi2}\")\n",
    "print(f\"P-value: {p}\")\n",
    "print(f\"Degrees of freedom: {dof}\")\n",
    "print(\"Expected frequencies:\")\n",
    "print(expected)\n"
   ]
  },
  {
   "cell_type": "markdown",
   "metadata": {},
   "source": [
    "**interpretation:**\n",
    "\n",
    "The p-value will indicate whether there is a statistically significant association between Group A and Group B and the outcomes.\n",
    "\n",
    "If the p-value is less than a chosen significance level (e.g., 0.05), you can reject the null hypothesis and conclude that there is a significant association between the groups and outcomes."
   ]
  },
  {
   "cell_type": "markdown",
   "metadata": {},
   "source": [
    "**Q4.**  A study of the prevalence of smoking in a population of 500 individuals found that 60 individuals\n",
    "smoked. Use Python to calculate the 95% confidence interval for the true proportion of individuals in the\n",
    "population who smoke."
   ]
  },
  {
   "cell_type": "code",
   "execution_count": 21,
   "metadata": {},
   "outputs": [
    {
     "name": "stdout",
     "output_type": "stream",
     "text": [
      "sample_proportion:12.0 %\n",
      "Z Value : 1.959963984540054\n",
      "margin_of_error:0.028483611128692923\n",
      "95% Confidence Interval: (9.1516 %, 14.8484 %)\n"
     ]
    }
   ],
   "source": [
    "import scipy.stats as stats\n",
    "import math\n",
    "\n",
    "total_population = 500\n",
    "sample_size = 60\n",
    "\n",
    "sample_proportion = sample_size / total_population\n",
    "\n",
    "# Set the confidence level and calculate the Z-score\n",
    "confidence_level = 0.95\n",
    "alpha = 1 - confidence_level\n",
    "z = stats.norm.ppf(1 - alpha / 2)\n",
    "\n",
    "# Calculate the margin of error\n",
    "margin_of_error = z * math.sqrt((sample_proportion * (1 - sample_proportion)) / total_population)\n",
    "\n",
    "# Calculate the confidence interval\n",
    "lower_bound = sample_proportion - margin_of_error\n",
    "upper_bound = sample_proportion + margin_of_error\n",
    "\n",
    "print(f\"sample_proportion:{sample_proportion*100} %\")\n",
    "print(f\"Z Value :\",z)\n",
    "print(f\"margin_of_error:{margin_of_error}\")\n",
    "print(f\"95% Confidence Interval: ({lower_bound * 100:.4f} %, {upper_bound * 100:.4f} %)\")\n"
   ]
  },
  {
   "cell_type": "markdown",
   "metadata": {},
   "source": [
    "**Q5.** Calculate the 90% confidence interval for a sample of data with a mean of 75 and a standard deviation\n",
    "of 12 using Python. Interpret the results."
   ]
  },
  {
   "cell_type": "code",
   "execution_count": 22,
   "metadata": {},
   "outputs": [
    {
     "name": "stdout",
     "output_type": "stream",
     "text": [
      "Z Value : 1.6448536269514722\n",
      "margin_of_error:2.791409168824017\n",
      "90% Confidence Interval: (72.2086, 77.7914)\n"
     ]
    }
   ],
   "source": [
    "import scipy.stats as stats\n",
    "import math\n",
    "\n",
    "# Given data\n",
    "sample_mean = 75\n",
    "population_std_dev = 12\n",
    "confidence_level = 0.90\n",
    "\n",
    "sample_size = 50\n",
    "\n",
    "# Calculate the Z-score for the given confidence level\n",
    "alpha = 1 - confidence_level\n",
    "z = stats.norm.ppf(1 - alpha / 2)\n",
    "\n",
    "# Calculate the margin of error\n",
    "margin_of_error = z * (population_std_dev / math.sqrt(sample_size))\n",
    "\n",
    "# Calculate the confidence interval\n",
    "lower_bound = sample_mean - margin_of_error\n",
    "upper_bound = sample_mean + margin_of_error\n",
    "\n",
    "print(f\"Z Value :\",z)\n",
    "print(f\"margin_of_error:{margin_of_error}\")\n",
    "print(f\"90% Confidence Interval: ({lower_bound:.4f}, {upper_bound:.4f})\")\n"
   ]
  },
  {
   "cell_type": "markdown",
   "metadata": {},
   "source": [
    "**Interpretation:**\n",
    "\n",
    "The 90% confidence interval for the population mean, based on the provided sample data, is given as (72.2086, 77.7914). This means that we can be 90% confident that the true population mean falls within this interval."
   ]
  },
  {
   "cell_type": "markdown",
   "metadata": {},
   "source": [
    "**Q6.** Use Python to plot the chi-square distribution with 10 degrees of freedom. Label the axes and shade the\n",
    "area corresponding to a chi-square statistic of 15."
   ]
  },
  {
   "cell_type": "code",
   "execution_count": 29,
   "metadata": {},
   "outputs": [
    {
     "data": {
      "image/png": "[encoded data removed]",
      "text/plain": [
       "<Figure size 800x600 with 1 Axes>"
      ]
     },
     "metadata": {},
     "output_type": "display_data"
    }
   ],
   "source": [
    "import numpy as np\n",
    "import matplotlib.pyplot as plt\n",
    "import scipy.stats as stats\n",
    "\n",
    "# Degrees of freedom\n",
    "df = 10\n",
    "\n",
    "# Create a range of x values for the chi-square distribution\n",
    "x = np.linspace(0, 30, 1000)\n",
    "\n",
    "pdf = stats.chi2.pdf(x, df)\n",
    "\n",
    "plt.figure(figsize=(8, 6))\n",
    "plt.plot(x, pdf, label=f'Chi-square Distribution (df={df})', color='b')\n",
    "plt.fill_between(x, pdf, where=(x >= 15), color='red', alpha=0.5, label='Chi-square > 15')\n",
    "\n",
    "plt.xlabel('Chi-square Statistic')\n",
    "plt.ylabel('Probability Density')\n",
    "plt.title('Chi-square Distribution with 10 Degrees of Freedom')\n",
    "plt.legend()\n",
    "\n",
    "plt.grid(True)\n",
    "plt.show()\n"
   ]
  },
  {
   "cell_type": "markdown",
   "metadata": {},
   "source": [
    "**Q7.** A random sample of 1000 people was asked if they preferred Coke or Pepsi. Of the sample, 520\n",
    "preferred Coke. Calculate a 99% confidence interval for the true proportion of people in the population who\n",
    "prefer Coke."
   ]
  },
  {
   "cell_type": "code",
   "execution_count": 32,
   "metadata": {},
   "outputs": [
    {
     "name": "stdout",
     "output_type": "stream",
     "text": [
      "sample_proportion:0.52 \n",
      "Z Value : 2.5758293035489004\n",
      "margin_of_error:0.040694842322030134\n",
      "99% Confidence Interval: (0.4793, 0.5607)\n"
     ]
    }
   ],
   "source": [
    "import scipy.stats as stats\n",
    "import math\n",
    "\n",
    "\n",
    "sample_proportion = 520 / 1000 \n",
    "confidence_level = 0.99\n",
    "sample_size = 1000\n",
    "\n",
    "alpha = 1 - confidence_level\n",
    "z = stats.norm.ppf(1 - alpha / 2)\n",
    "\n",
    "\n",
    "margin_of_error = z * math.sqrt((sample_proportion * (1 - sample_proportion)) / sample_size)\n",
    "\n",
    "# Calculate the confidence interval\n",
    "lower_bound = sample_proportion - margin_of_error\n",
    "upper_bound = sample_proportion + margin_of_error\n",
    "\n",
    "print(f\"sample_proportion:{sample_proportion} \")\n",
    "print(f\"Z Value :\",z)\n",
    "print(f\"margin_of_error:{margin_of_error}\")\n",
    "print(f\"99% Confidence Interval: ({lower_bound:.4f}, {upper_bound:.4f})\")\n"
   ]
  },
  {
   "cell_type": "markdown",
   "metadata": {},
   "source": [
    "**Q8.**  A researcher hypothesizes that a coin is biased towards tails. They flip the coin 100 times and observe\n",
    "45 tails. Conduct a chi-square goodness of fit test to determine if the observed frequencies match the\n",
    "expected frequencies of a fair coin. Use a significance level of 0.05."
   ]
  },
  {
   "cell_type": "code",
   "execution_count": 41,
   "metadata": {},
   "outputs": [
    {
     "name": "stdout",
     "output_type": "stream",
     "text": [
      "observed: [45 55]\n",
      "expected: [50. 50.]\n",
      "Chi-square statistic: 1.0\n",
      "P-value: 0.31731050786291115\n",
      "Degrees of freedom: 1\n",
      "Fail to reject the null hypothesis: There is no significant evidence that the coin is biased towards tails.\n"
     ]
    }
   ],
   "source": [
    "import numpy as np\n",
    "import scipy.stats as stats\n",
    "\n",
    "# Given data\n",
    "observed_tails = 45\n",
    "total_flips = 100\n",
    "expected_tails = total_flips / 2 \n",
    "alpha = 0.05  \n",
    "\n",
    "# # Create an array of observed and expected frequencies\n",
    "observed = np.array([observed_tails, total_flips - observed_tails])\n",
    "expected = np.array([expected_tails, total_flips - expected_tails])\n",
    "\n",
    "# Perform the chi-square goodness of fit test\n",
    "chi2, p = stats.chisquare(f_obs=observed, f_exp=expected)\n",
    "\n",
    "\n",
    "df = 1  \n",
    "print(\"observed:\",observed)\n",
    "print(\"expected:\",expected)\n",
    "print(f\"Chi-square statistic: {chi2}\")\n",
    "print(f\"P-value: {p}\")\n",
    "print(f\"Degrees of freedom: {df}\")\n",
    "\n",
    "# Check if the p-value is less than the significance level\n",
    "if p < alpha:\n",
    "    print(\"Reject the null hypothesis: The coin is biased towards tails.\")\n",
    "else:\n",
    "    print(\"Fail to reject the null hypothesis: There is no significant evidence that the coin is biased towards tails.\")\n"
   ]
  },
  {
   "cell_type": "markdown",
   "metadata": {},
   "source": [
    "**Q9.** A study was conducted to determine if there is an association between smoking status (smoker or\n",
    "non-smoker) and lung cancer diagnosis (yes or no). The results are shown in the contingency table below.\n",
    "Conduct a chi-square test for independence to determine if there is a significant association between\n",
    "smoking status and lung cancer diagnosis.\n",
    "Use a significance level of 0.05."
   ]
  },
  {
   "cell_type": "markdown",
   "metadata": {},
   "source": [
    "To determine if there is a significant association between smoking status and lung cancer diagnosis, we can conduct a chi-square test for independence.\n",
    "\n",
    "The null hypothesis (H0) is that there is no association, and the alternative hypothesis (Ha) is that there is an association between smoking status and lung cancer diagnosis.\n",
    "\n",
    "Expected Frequency = (Row Total * Column Total) / Grand Total\n",
    "\n",
    "For example, the expected frequency for the \"Smoker - Yes\" cell would be:\n",
    "\n",
    "Expected Frequency = (200 * 90) / 400 = 45"
   ]
  },
  {
   "cell_type": "code",
   "execution_count": 1,
   "metadata": {},
   "outputs": [
    {
     "name": "stdout",
     "output_type": "stream",
     "text": [
      "Chi-Square Statistic: 12.057347670250895\n",
      "P-value: 0.0005158863863703744\n",
      "Degrees of Freedom: 1\n",
      "Expected Frequencies Table:\n",
      "[[ 45. 155.]\n",
      " [ 45. 155.]]\n",
      "There is a significant association between smoking status and lung cancer diagnosis.\n"
     ]
    }
   ],
   "source": [
    "import numpy as np\n",
    "from scipy.stats import chi2_contingency\n",
    "\n",
    "# Create the observed contingency table\n",
    "observed = np.array([[60, 140], [30, 170]])\n",
    "\n",
    "\n",
    "chi2, p, dof, expected = chi2_contingency(observed)\n",
    "\n",
    "alpha = 0.05\n",
    "\n",
    "print(\"Chi-Square Statistic:\", chi2)\n",
    "print(\"P-value:\", p)\n",
    "print(\"Degrees of Freedom:\", dof)\n",
    "print(\"Expected Frequencies Table:\")\n",
    "print(expected)\n",
    "\n",
    "\n",
    "if p < alpha:\n",
    "    print(\"There is a significant association between smoking status and lung cancer diagnosis.\")\n",
    "else:\n",
    "    print(\"There is no significant association between smoking status and lung cancer diagnosis.\")\n"
   ]
  },
  {
   "cell_type": "markdown",
   "metadata": {},
   "source": [
    "**Q10.** A study was conducted to determine if the proportion of people who prefer milk chocolate, dark\n",
    "chocolate, or white chocolate is different in the U.S. versus the U.K. A random sample of 500 people from\n",
    "the U.S. and a random sample of 500 people from the U.K. were surveyed. The results are shown in the\n",
    "contingency table below. Conduct a chi-square test for independence to determine if there is a significant\n",
    "association between chocolate preference and country of origin.\n",
    "\n",
    "Use a significance level of 0.01."
   ]
  },
  {
   "cell_type": "markdown",
   "metadata": {},
   "source": [
    "The null hypothesis (H0) is that there is no association, and the alternative hypothesis (Ha) is that there is an association between chocolate preference and the country of origin."
   ]
  },
  {
   "cell_type": "code",
   "execution_count": 2,
   "metadata": {},
   "outputs": [
    {
     "name": "stdout",
     "output_type": "stream",
     "text": [
      "Chi-Square Statistic: 13.393665158371041\n",
      "P-value: 0.0012348168997745915\n",
      "Degrees of Freedom: 2\n",
      "Expected Frequencies Table:\n",
      "[[212.5 162.5 125. ]\n",
      " [212.5 162.5 125. ]]\n",
      "There is a significant association between chocolate preference and country of origin.\n"
     ]
    }
   ],
   "source": [
    "import numpy as np\n",
    "from scipy.stats import chi2_contingency\n",
    "\n",
    "# Create the observed contingency table\n",
    "observed = np.array([[200, 150, 150], [225, 175, 100]])\n",
    "\n",
    "chi2, p, dof, expected = chi2_contingency(observed)\n",
    "\n",
    "\n",
    "alpha = 0.01\n",
    "\n",
    "print(\"Chi-Square Statistic:\", chi2)\n",
    "print(\"P-value:\", p)\n",
    "print(\"Degrees of Freedom:\", dof)\n",
    "print(\"Expected Frequencies Table:\")\n",
    "print(expected)\n",
    "\n",
    "if p < alpha:\n",
    "    print(\"There is a significant association between chocolate preference and country of origin.\")\n",
    "else:\n",
    "    print(\"There is no significant association between chocolate preference and country of origin.\")\n"
   ]
  },
  {
   "cell_type": "markdown",
   "metadata": {},
   "source": [
    "**Q11.** A random sample of 30 people was selected from a population with an unknown mean and standard\n",
    "deviation.\n",
    "\n",
    " The sample mean was found to be 72 and the sample standard deviation was found to be 10.\n",
    "\n",
    " \n",
    "Conduct a hypothesis test to determine if the population mean is significantly different from 70. Use a\n",
    "significance level of 0.05."
   ]
  },
  {
   "cell_type": "markdown",
   "metadata": {},
   "source": [
    "The null hypothesis (H0) states that the population mean is equal to 70, while the alternative hypothesis (Ha) states that the population mean is significantly different from 70.\n",
    "\n",
    "H0: μ = 70 (The population mean is equal to 70)\n",
    "\n",
    "Ha: μ ≠ 70 (The population mean is significantly different from 70)"
   ]
  },
  {
   "cell_type": "code",
   "execution_count": 4,
   "metadata": {},
   "outputs": [
    {
     "name": "stdout",
     "output_type": "stream",
     "text": [
      "Sample Mean: 72\n",
      "Sample Standard Deviation: 10\n",
      "Sample Size: 30\n",
      "Population Mean: 70\n",
      "Significance Level: 0.05\n",
      "Degrees of Freedom: 29\n",
      "Calculated t-statistic: 1.0954451150103321\n",
      "Critical t-value: 2.045229642132703\n",
      "P-value: 0.2823362372860698\n",
      "Fail to reject the null hypothesis. There is no significant difference in the population mean and 70.\n"
     ]
    }
   ],
   "source": [
    "import numpy as np\n",
    "from scipy.stats import t\n",
    "\n",
    "# Given data\n",
    "sample_mean = 72\n",
    "sample_std_dev = 10\n",
    "sample_size = 30\n",
    "population_mean = 70\n",
    "significance_level = 0.05\n",
    "\n",
    "t_statistic = (sample_mean - population_mean) / (sample_std_dev / np.sqrt(sample_size))\n",
    "\n",
    "\n",
    "degrees_of_freedom = sample_size - 1\n",
    "\n",
    "#two-tailed test\n",
    "alpha = significance_level / 2\n",
    "critical_t_value = t.ppf(1 - alpha, degrees_of_freedom)\n",
    "\n",
    "p_value = 2 * (1 - t.cdf(np.abs(t_statistic), degrees_of_freedom))\n",
    "\n",
    "\n",
    "print(\"Sample Mean:\", sample_mean)\n",
    "print(\"Sample Standard Deviation:\", sample_std_dev)\n",
    "print(\"Sample Size:\", sample_size)\n",
    "print(\"Population Mean:\", population_mean)\n",
    "print(\"Significance Level:\", significance_level)\n",
    "print(\"Degrees of Freedom:\", degrees_of_freedom)\n",
    "print(\"Calculated t-statistic:\", t_statistic)\n",
    "print(\"Critical t-value:\", critical_t_value)\n",
    "print(\"P-value:\", p_value)\n",
    "\n",
    "\n",
    "if np.abs(t_statistic) > critical_t_value or p_value < significance_level:\n",
    "    print(\"Reject the null hypothesis. The population mean is significantly different from 70.\")\n",
    "else:\n",
    "    print(\"Fail to reject the null hypothesis. There is no significant difference in the population mean and 70.\")\n"
   ]
  },
  {
   "cell_type": "code",
   "execution_count": null,
   "metadata": {},
   "outputs": [],
   "source": []
  }
 ],
 "metadata": {
  "kernelspec": {
   "display_name": "Python 3",
   "language": "python",
   "name": "python3"
  },
  "language_info": {
   "codemirror_mode": {
    "name": "ipython",
    "version": 3
   },
   "file_extension": ".py",
   "mimetype": "text/x-python",
   "name": "python",
   "nbconvert_exporter": "python",
   "pygments_lexer": "ipython3",
   "version": "3.11.1"
  }
 },
 "nbformat": 4,
 "nbformat_minor": 2
}
